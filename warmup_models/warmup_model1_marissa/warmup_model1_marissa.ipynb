{
 "cells": [
  {
   "cell_type": "code",
   "execution_count": 1,
   "metadata": {
    "collapsed": false
   },
   "outputs": [
    {
     "name": "stderr",
     "output_type": "stream",
     "text": [
      "Using TensorFlow backend.\n"
     ]
    }
   ],
   "source": [
    "#####Import and Define Functions#####\n",
    "\n",
    "import numpy as np\n",
    "from io import open\n",
    "import glob\n",
    "import pandas as pd\n",
    "import matplotlib\n",
    "import matplotlib.pyplot as plt\n",
    "\n",
    "\n",
    "import torch\n",
    "from torch.autograd import Variable\n",
    "import torch.nn as nn\n",
    "import torch.nn.functional as F\n",
    "import torch.optim as optim\n",
    "import torch\n",
    "import torch.nn as nn\n",
    "import torchvision.datasets as dsets\n",
    "import torchvision.transforms as transforms\n",
    "from torch.autograd import Variable\n",
    "import torch.utils.data as data_utils\n",
    "\n",
    "\n",
    "import os\n",
    "import re\n",
    "\n",
    "\n",
    "import numpy\n",
    "import pandas\n",
    "from keras.models import Sequential\n",
    "from keras.layers import Dense\n",
    "from keras.wrappers.scikit_learn import KerasClassifier\n",
    "from keras.utils import np_utils\n",
    "\n",
    "from sklearn.preprocessing import LabelEncoder\n",
    "\n",
    "\n",
    "# fix random seed for reproducibility\n",
    "seed = 7\n",
    "np.random.seed(seed)\n",
    "\n",
    "def namestr(obj, namespace):\n",
    "    return [name for name in namespace if namespace[name] is obj]\n",
    "def prints(matrix): \n",
    "    return print(\"-----\",namestr(matrix,globals()),\":\",matrix.shape, \":\", type(matrix),\"-----\\n\")\n",
    "def printd(matrix): \n",
    "    return print(\"-----\",namestr(matrix,globals()),\":\",matrix.shape, \":\", type(matrix),\"-----\\n\",pd.DataFrame(matrix).head(5))\n",
    "\n",
    "def best_fit(X, Y):\n",
    "\n",
    "    xbar = sum(X)/len(X)\n",
    "    ybar = sum(Y)/len(Y)\n",
    "    n = len(X) # or len(Y)\n",
    "\n",
    "    numer = sum(xi*yi for xi,yi in zip(X, Y)) - n * xbar * ybar\n",
    "    denum = sum(xi**2 for xi in X) - n * xbar**2\n",
    "\n",
    "    b = numer / denum\n",
    "    a = ybar - b * xbar\n",
    "\n",
    "    print('best fit line:\\ny = {:.2f} + {:.2f}x'.format(a, b))\n",
    "\n",
    "    return a, b\n",
    "\n"
   ]
  },
  {
   "cell_type": "code",
   "execution_count": 2,
   "metadata": {
    "collapsed": false
   },
   "outputs": [
    {
     "name": "stdout",
     "output_type": "stream",
     "text": [
      "----- ['X'] : (2551, 242) : <class 'numpy.ndarray'> -----\n",
      "\n",
      "----- ['ratings_cont'] : (2551,) : <class 'numpy.ndarray'> -----\n",
      "\n"
     ]
    }
   ],
   "source": [
    "##### Import Files #####\n",
    "\n",
    "allFiles = glob.glob('/Users/mdclark/Dropbox/AVEC17/data/selfDisclosure/*[0-9].csv')\n",
    "\n",
    "#Create Data Frame\n",
    "all_data_frames = []\n",
    "for file in allFiles: \n",
    "    data_frame = pd.read_csv(file, index_col=None)\n",
    "    all_data_frames.append(data_frame)\n",
    "df = pd.concat(all_data_frames, axis=0, ignore_index=True)\n",
    "\n",
    "\n",
    "#See what shuffling the rows does\n",
    "df = df.sample(frac=1).reset_index(drop=True)\n",
    "\n",
    "\n",
    "df = df.as_matrix()\n",
    "\n",
    "\n",
    "\n",
    "#Inputs\n",
    "X = df[:,2:]\n",
    "prints(X)\n",
    "#Ratings\n",
    "ratings_cont = df[:,1]\n",
    "prints(ratings_cont)\n",
    "\n"
   ]
  },
  {
   "cell_type": "code",
   "execution_count": 3,
   "metadata": {
    "collapsed": false
   },
   "outputs": [],
   "source": [
    "##### Categorize Ratings into Low/Med/High and Dummy Code Them  #####\n",
    "\n",
    "\n",
    "def Categorize(rating): \n",
    "    if rating > 50:\n",
    "        return 3\n",
    "    elif rating == 50:\n",
    "        return 2\n",
    "    elif rating < 50:\n",
    "        return 1\n",
    "    else:\n",
    "        print(\"error\")\n",
    "        \n",
    "classes = [0, 1, 2]\n",
    "\n",
    "ratings_cat = np.array([Categorize(rating) for rating in ratings_cont])\n",
    "\n",
    "#Creates on-hot vector\n",
    "#encoder = LabelEncoder()\n",
    "#encoder.fit(ratings_cat)\n",
    "#encoded_Y = encoder.transform(ratings_cat)\n",
    "# convert integers to dummy variables (i.e. one hot encoded) ****\n",
    "#dummy_y = np_utils.to_categorical(encoded_Y).astype(int)\n",
    "\n",
    "\n",
    "\n",
    "#Vector of Class Indices\n",
    "dummy_y = ratings_cat.astype(int).T\n"
   ]
  },
  {
   "cell_type": "code",
   "execution_count": 2,
   "metadata": {
    "collapsed": false
   },
   "outputs": [
    {
     "ename": "NameError",
     "evalue": "name 'plt' is not defined",
     "output_type": "error",
     "traceback": [
      "\u001b[0;31m---------------------------------------------------------------------------\u001b[0m",
      "\u001b[0;31mNameError\u001b[0m                                 Traceback (most recent call last)",
      "\u001b[0;32m<ipython-input-2-b2745a44f571>\u001b[0m in \u001b[0;36m<module>\u001b[0;34m()\u001b[0m\n\u001b[0;32m----> 1\u001b[0;31m \u001b[0mplt\u001b[0m\u001b[0;34m.\u001b[0m\u001b[0mhist\u001b[0m\u001b[0;34m(\u001b[0m\u001b[0mdummy_y\u001b[0m\u001b[0;34m,\u001b[0m \u001b[0mbins\u001b[0m\u001b[0;34m=\u001b[0m\u001b[0;36m1\u001b[0m\u001b[0;34m)\u001b[0m\u001b[0;34m\u001b[0m\u001b[0m\n\u001b[0m\u001b[1;32m      2\u001b[0m \u001b[0mplt\u001b[0m\u001b[0;34m.\u001b[0m\u001b[0mshow\u001b[0m\u001b[0;34m(\u001b[0m\u001b[0;34m)\u001b[0m\u001b[0;34m\u001b[0m\u001b[0m\n",
      "\u001b[0;31mNameError\u001b[0m: name 'plt' is not defined"
     ]
    }
   ],
   "source": [
    "plt.hist(dummy_y, bins=1)\n",
    "plt.show()"
   ]
  },
  {
   "cell_type": "code",
   "execution_count": 5,
   "metadata": {
    "collapsed": false
   },
   "outputs": [
    {
     "name": "stdout",
     "output_type": "stream",
     "text": [
      "----- ['X_train'] : (2000, 242) : <class 'numpy.ndarray'> -----\n",
      "\n",
      "----- ['X_test'] : (550, 242) : <class 'numpy.ndarray'> -----\n",
      "\n",
      "----- ['dummy_y_train'] : (2000,) : <class 'numpy.ndarray'> -----\n",
      "\n",
      "----- ['dummy_y_test'] : (550,) : <class 'numpy.ndarray'> -----\n",
      "\n"
     ]
    }
   ],
   "source": [
    "#https://github.com/yunjey/pytorch-tutorial/blob/master/tutorials/01-basics/feedforward_neural_network/main.py\n",
    "\n",
    "\n",
    "\n",
    "# Hyper Parameters - Desmond's Data\n",
    "input_size = 242\n",
    "hidden_size = 50\n",
    "num_classes = 4\n",
    "num_epochs = 200\n",
    "batch_size = 20\n",
    "learning_rate = 0.001\n",
    "\n",
    "\n",
    "#https://github.com/kimhc6028/pathnet-pytorch/blob/master/cifar_dataset.py\n",
    "\n",
    "#Subset into Training and Test Data\n",
    "trainingnum = 2000\n",
    "\n",
    "X_train = X[0:trainingnum,: ]\n",
    "dummy_y_train = dummy_y[0:trainingnum ]\n",
    "\n",
    "X_test = X[trainingnum:2550,: ]\n",
    "dummy_y_test = dummy_y[trainingnum:2550 ]\n",
    "\n",
    "prints(X_train)\n",
    "prints(X_test)\n",
    "prints(dummy_y_train)\n",
    "prints(dummy_y_test)\n",
    "\n",
    "\n",
    "tensor_data_train = torch.from_numpy(X_train)\n",
    "tensor_data_train = tensor_data_train.float()\n",
    "tensor_target_train = torch.from_numpy(dummy_y_train)\n",
    "\n",
    "tensor_data_test = torch.from_numpy(X_test)\n",
    "tensor_data_test = tensor_data_test.float()\n",
    "tensor_target_test = torch.from_numpy(dummy_y_test)\n",
    "\n",
    "#Create Data Loader from Training and test data\n",
    "train_dataset = data_utils.TensorDataset(tensor_data_train, tensor_target_train)\n",
    "train_loader = data_utils.DataLoader(train_dataset, batch_size=batch_size, shuffle = True)\n",
    "\n",
    "test_dataset = data_utils.TensorDataset(tensor_data_test, tensor_target_test)\n",
    "test_loader = data_utils.DataLoader(test_dataset, batch_size=batch_size, shuffle = True)\n",
    "\n",
    "\n",
    "#test = train = data_utils.TensorDataset(torch.FloatTensor(X), torch.LongTensor(dummy_y))\n",
    "#test_loader = data_utils.DataLoader(train, batch_size=50, shuffle=True)\n",
    "\n"
   ]
  },
  {
   "cell_type": "markdown",
   "metadata": {},
   "source": [
    "\n"
   ]
  },
  {
   "cell_type": "code",
   "execution_count": 6,
   "metadata": {
    "collapsed": false
   },
   "outputs": [],
   "source": [
    "# Neural Network Model (1 hidden layer)\n",
    "class Net(nn.Module):\n",
    "    def __init__(self, input_size, hidden_size, num_classes):\n",
    "        super(Net, self).__init__()\n",
    "        self.fc1 = nn.Linear(input_size, hidden_size) \n",
    "        self.relu = nn.ReLU()\n",
    "        self.fc2 = nn.Linear(hidden_size, int(hidden_size/2))\n",
    "        self.relu2 = nn.ReLU()\n",
    "        self.fc3 = nn.Linear(int(hidden_size/2), int(hidden_size/5),)\n",
    "        self.relu3 = nn.Sigmoid()\n",
    "        self.fc4 = nn.Linear(int(hidden_size/5), num_classes,)\n",
    "    \n",
    "    def forward(self, x):\n",
    "        out = self.fc1(x)\n",
    "        out = self.relu(out)\n",
    "        out = self.fc2(out)\n",
    "        out = self.relu2(out)\n",
    "        out = self.fc3(out)\n",
    "        out = self.relu3(out)\n",
    "        out = self.fc4(out)\n",
    "\n",
    "        return out\n",
    "    \n",
    "net = Net(input_size, hidden_size, num_classes)\n",
    "\n",
    "    \n",
    "# Loss and Optimizer\n",
    "criterion = nn.CrossEntropyLoss()  \n",
    "optimizer = torch.optim.Adam(net.parameters(), lr=learning_rate)  \n"
   ]
  },
  {
   "cell_type": "code",
   "execution_count": 7,
   "metadata": {
    "collapsed": false
   },
   "outputs": [
    {
     "name": "stdout",
     "output_type": "stream",
     "text": [
      "Epoch [1/200], Step [100/100], Loss: 1.4097\n",
      "Epoch [2/200], Step [100/100], Loss: 1.1412\n",
      "Epoch [3/200], Step [100/100], Loss: 1.0740\n",
      "Epoch [4/200], Step [100/100], Loss: 1.2259\n",
      "Epoch [5/200], Step [100/100], Loss: 0.9221\n",
      "Epoch [6/200], Step [100/100], Loss: 1.0028\n",
      "Epoch [7/200], Step [100/100], Loss: 1.1309\n",
      "Epoch [8/200], Step [100/100], Loss: 0.8855\n",
      "Epoch [9/200], Step [100/100], Loss: 0.8418\n",
      "Epoch [10/200], Step [100/100], Loss: 1.0090\n",
      "Epoch [11/200], Step [100/100], Loss: 0.9750\n",
      "Epoch [12/200], Step [100/100], Loss: 1.1404\n",
      "Epoch [13/200], Step [100/100], Loss: 1.0620\n",
      "Epoch [14/200], Step [100/100], Loss: 1.0018\n",
      "Epoch [15/200], Step [100/100], Loss: 1.0563\n",
      "Epoch [16/200], Step [100/100], Loss: 0.8434\n",
      "Epoch [17/200], Step [100/100], Loss: 1.0298\n",
      "Epoch [18/200], Step [100/100], Loss: 0.7820\n",
      "Epoch [19/200], Step [100/100], Loss: 0.7515\n",
      "Epoch [20/200], Step [100/100], Loss: 0.5619\n",
      "Epoch [21/200], Step [100/100], Loss: 0.9953\n",
      "Epoch [22/200], Step [100/100], Loss: 0.8143\n",
      "Epoch [23/200], Step [100/100], Loss: 0.7880\n",
      "Epoch [24/200], Step [100/100], Loss: 0.7422\n",
      "Epoch [25/200], Step [100/100], Loss: 1.0570\n",
      "Epoch [26/200], Step [100/100], Loss: 0.7496\n",
      "Epoch [27/200], Step [100/100], Loss: 0.7121\n",
      "Epoch [28/200], Step [100/100], Loss: 0.9163\n",
      "Epoch [29/200], Step [100/100], Loss: 0.5285\n",
      "Epoch [30/200], Step [100/100], Loss: 0.8641\n",
      "Epoch [31/200], Step [100/100], Loss: 0.5431\n",
      "Epoch [32/200], Step [100/100], Loss: 0.9300\n",
      "Epoch [33/200], Step [100/100], Loss: 0.6793\n",
      "Epoch [34/200], Step [100/100], Loss: 0.6528\n",
      "Epoch [35/200], Step [100/100], Loss: 0.7020\n",
      "Epoch [36/200], Step [100/100], Loss: 0.7039\n",
      "Epoch [37/200], Step [100/100], Loss: 1.4634\n",
      "Epoch [38/200], Step [100/100], Loss: 0.5843\n",
      "Epoch [39/200], Step [100/100], Loss: 0.5991\n",
      "Epoch [40/200], Step [100/100], Loss: 0.4624\n",
      "Epoch [41/200], Step [100/100], Loss: 0.7399\n",
      "Epoch [42/200], Step [100/100], Loss: 0.6118\n",
      "Epoch [43/200], Step [100/100], Loss: 0.4701\n",
      "Epoch [44/200], Step [100/100], Loss: 0.7789\n",
      "Epoch [45/200], Step [100/100], Loss: 0.6793\n",
      "Epoch [46/200], Step [100/100], Loss: 0.4508\n",
      "Epoch [47/200], Step [100/100], Loss: 0.7351\n",
      "Epoch [48/200], Step [100/100], Loss: 0.6868\n",
      "Epoch [49/200], Step [100/100], Loss: 0.6630\n",
      "Epoch [50/200], Step [100/100], Loss: 0.5330\n",
      "Epoch [51/200], Step [100/100], Loss: 0.8045\n",
      "Epoch [52/200], Step [100/100], Loss: 0.5459\n",
      "Epoch [53/200], Step [100/100], Loss: 0.7362\n",
      "Epoch [54/200], Step [100/100], Loss: 0.6254\n",
      "Epoch [55/200], Step [100/100], Loss: 0.4860\n",
      "Epoch [56/200], Step [100/100], Loss: 0.7044\n",
      "Epoch [57/200], Step [100/100], Loss: 0.7374\n",
      "Epoch [58/200], Step [100/100], Loss: 0.5770\n",
      "Epoch [59/200], Step [100/100], Loss: 0.7520\n",
      "Epoch [60/200], Step [100/100], Loss: 0.5260\n",
      "Epoch [61/200], Step [100/100], Loss: 0.5502\n",
      "Epoch [62/200], Step [100/100], Loss: 0.4988\n",
      "Epoch [63/200], Step [100/100], Loss: 0.5526\n",
      "Epoch [64/200], Step [100/100], Loss: 0.3986\n",
      "Epoch [65/200], Step [100/100], Loss: 0.8982\n",
      "Epoch [66/200], Step [100/100], Loss: 0.5185\n",
      "Epoch [67/200], Step [100/100], Loss: 0.6851\n",
      "Epoch [68/200], Step [100/100], Loss: 0.4165\n",
      "Epoch [69/200], Step [100/100], Loss: 0.6894\n",
      "Epoch [70/200], Step [100/100], Loss: 0.6383\n",
      "Epoch [71/200], Step [100/100], Loss: 0.4391\n",
      "Epoch [72/200], Step [100/100], Loss: 0.6658\n",
      "Epoch [73/200], Step [100/100], Loss: 0.6520\n",
      "Epoch [74/200], Step [100/100], Loss: 0.6912\n",
      "Epoch [75/200], Step [100/100], Loss: 0.7251\n",
      "Epoch [76/200], Step [100/100], Loss: 0.5687\n",
      "Epoch [77/200], Step [100/100], Loss: 0.5359\n",
      "Epoch [78/200], Step [100/100], Loss: 0.4043\n",
      "Epoch [79/200], Step [100/100], Loss: 0.3968\n",
      "Epoch [80/200], Step [100/100], Loss: 0.7632\n",
      "Epoch [81/200], Step [100/100], Loss: 0.6552\n",
      "Epoch [82/200], Step [100/100], Loss: 0.5582\n",
      "Epoch [83/200], Step [100/100], Loss: 0.7993\n",
      "Epoch [84/200], Step [100/100], Loss: 0.8235\n",
      "Epoch [85/200], Step [100/100], Loss: 0.6363\n",
      "Epoch [86/200], Step [100/100], Loss: 0.7170\n",
      "Epoch [87/200], Step [100/100], Loss: 0.6725\n",
      "Epoch [88/200], Step [100/100], Loss: 0.6154\n",
      "Epoch [89/200], Step [100/100], Loss: 0.5735\n",
      "Epoch [90/200], Step [100/100], Loss: 0.6133\n",
      "Epoch [91/200], Step [100/100], Loss: 0.4726\n",
      "Epoch [92/200], Step [100/100], Loss: 0.6623\n",
      "Epoch [93/200], Step [100/100], Loss: 0.5180\n",
      "Epoch [94/200], Step [100/100], Loss: 0.9648\n",
      "Epoch [95/200], Step [100/100], Loss: 0.3218\n",
      "Epoch [96/200], Step [100/100], Loss: 0.4194\n",
      "Epoch [97/200], Step [100/100], Loss: 0.6322\n",
      "Epoch [98/200], Step [100/100], Loss: 0.3493\n",
      "Epoch [99/200], Step [100/100], Loss: 0.4354\n",
      "Epoch [100/200], Step [100/100], Loss: 0.4438\n",
      "Epoch [101/200], Step [100/100], Loss: 0.3730\n",
      "Epoch [102/200], Step [100/100], Loss: 0.4031\n",
      "Epoch [103/200], Step [100/100], Loss: 0.5074\n",
      "Epoch [104/200], Step [100/100], Loss: 0.9018\n",
      "Epoch [105/200], Step [100/100], Loss: 0.5935\n",
      "Epoch [106/200], Step [100/100], Loss: 0.3588\n",
      "Epoch [107/200], Step [100/100], Loss: 0.3877\n",
      "Epoch [108/200], Step [100/100], Loss: 0.4440\n",
      "Epoch [109/200], Step [100/100], Loss: 0.5099\n",
      "Epoch [110/200], Step [100/100], Loss: 0.4460\n",
      "Epoch [111/200], Step [100/100], Loss: 0.4438\n",
      "Epoch [112/200], Step [100/100], Loss: 0.7250\n",
      "Epoch [113/200], Step [100/100], Loss: 1.0289\n",
      "Epoch [114/200], Step [100/100], Loss: 0.3391\n",
      "Epoch [115/200], Step [100/100], Loss: 0.4234\n",
      "Epoch [116/200], Step [100/100], Loss: 0.4638\n",
      "Epoch [117/200], Step [100/100], Loss: 0.3651\n",
      "Epoch [118/200], Step [100/100], Loss: 0.5874\n",
      "Epoch [119/200], Step [100/100], Loss: 0.5310\n",
      "Epoch [120/200], Step [100/100], Loss: 0.4029\n",
      "Epoch [121/200], Step [100/100], Loss: 0.4177\n",
      "Epoch [122/200], Step [100/100], Loss: 0.5062\n",
      "Epoch [123/200], Step [100/100], Loss: 0.4105\n",
      "Epoch [124/200], Step [100/100], Loss: 0.4431\n",
      "Epoch [125/200], Step [100/100], Loss: 0.6623\n",
      "Epoch [126/200], Step [100/100], Loss: 0.2523\n",
      "Epoch [127/200], Step [100/100], Loss: 0.5553\n",
      "Epoch [128/200], Step [100/100], Loss: 0.2942\n",
      "Epoch [129/200], Step [100/100], Loss: 0.4962\n",
      "Epoch [130/200], Step [100/100], Loss: 0.5549\n",
      "Epoch [131/200], Step [100/100], Loss: 0.6293\n",
      "Epoch [132/200], Step [100/100], Loss: 0.6900\n",
      "Epoch [133/200], Step [100/100], Loss: 0.4905\n",
      "Epoch [134/200], Step [100/100], Loss: 0.4559\n",
      "Epoch [135/200], Step [100/100], Loss: 0.6080\n",
      "Epoch [136/200], Step [100/100], Loss: 0.5156\n",
      "Epoch [137/200], Step [100/100], Loss: 0.5609\n",
      "Epoch [138/200], Step [100/100], Loss: 0.3957\n",
      "Epoch [139/200], Step [100/100], Loss: 0.3153\n",
      "Epoch [140/200], Step [100/100], Loss: 0.2416\n",
      "Epoch [141/200], Step [100/100], Loss: 0.3598\n",
      "Epoch [142/200], Step [100/100], Loss: 0.4887\n",
      "Epoch [143/200], Step [100/100], Loss: 0.3819\n",
      "Epoch [144/200], Step [100/100], Loss: 0.1512\n",
      "Epoch [145/200], Step [100/100], Loss: 0.5481\n",
      "Epoch [146/200], Step [100/100], Loss: 0.2982\n",
      "Epoch [147/200], Step [100/100], Loss: 0.3109\n",
      "Epoch [148/200], Step [100/100], Loss: 0.3014\n",
      "Epoch [149/200], Step [100/100], Loss: 0.4699\n",
      "Epoch [150/200], Step [100/100], Loss: 0.7163\n",
      "Epoch [151/200], Step [100/100], Loss: 0.5554\n",
      "Epoch [152/200], Step [100/100], Loss: 0.2219\n",
      "Epoch [153/200], Step [100/100], Loss: 0.2898\n",
      "Epoch [154/200], Step [100/100], Loss: 0.5235\n",
      "Epoch [155/200], Step [100/100], Loss: 0.3837\n",
      "Epoch [156/200], Step [100/100], Loss: 0.4935\n",
      "Epoch [157/200], Step [100/100], Loss: 0.6497\n",
      "Epoch [158/200], Step [100/100], Loss: 0.4490\n",
      "Epoch [159/200], Step [100/100], Loss: 0.2995\n",
      "Epoch [160/200], Step [100/100], Loss: 0.4560\n",
      "Epoch [161/200], Step [100/100], Loss: 0.4509\n",
      "Epoch [162/200], Step [100/100], Loss: 0.4445\n",
      "Epoch [163/200], Step [100/100], Loss: 0.3354\n",
      "Epoch [164/200], Step [100/100], Loss: 0.3489\n",
      "Epoch [165/200], Step [100/100], Loss: 0.6502\n",
      "Epoch [166/200], Step [100/100], Loss: 0.4865\n",
      "Epoch [167/200], Step [100/100], Loss: 0.5513\n",
      "Epoch [168/200], Step [100/100], Loss: 0.2798\n",
      "Epoch [169/200], Step [100/100], Loss: 0.3611\n",
      "Epoch [170/200], Step [100/100], Loss: 0.6309\n",
      "Epoch [171/200], Step [100/100], Loss: 0.3663\n",
      "Epoch [172/200], Step [100/100], Loss: 0.5980\n",
      "Epoch [173/200], Step [100/100], Loss: 0.3340\n",
      "Epoch [174/200], Step [100/100], Loss: 0.3678\n",
      "Epoch [175/200], Step [100/100], Loss: 0.2138\n",
      "Epoch [176/200], Step [100/100], Loss: 0.5479\n",
      "Epoch [177/200], Step [100/100], Loss: 0.3185\n",
      "Epoch [178/200], Step [100/100], Loss: 0.2608\n",
      "Epoch [179/200], Step [100/100], Loss: 0.6595\n",
      "Epoch [180/200], Step [100/100], Loss: 0.3595\n",
      "Epoch [181/200], Step [100/100], Loss: 0.3786\n",
      "Epoch [182/200], Step [100/100], Loss: 0.3923\n",
      "Epoch [183/200], Step [100/100], Loss: 0.2897\n",
      "Epoch [184/200], Step [100/100], Loss: 0.3472\n",
      "Epoch [185/200], Step [100/100], Loss: 0.3628\n",
      "Epoch [186/200], Step [100/100], Loss: 0.3270\n",
      "Epoch [187/200], Step [100/100], Loss: 0.3837\n",
      "Epoch [188/200], Step [100/100], Loss: 0.3160\n",
      "Epoch [189/200], Step [100/100], Loss: 0.5790\n",
      "Epoch [190/200], Step [100/100], Loss: 0.5293\n",
      "Epoch [191/200], Step [100/100], Loss: 0.4033\n",
      "Epoch [192/200], Step [100/100], Loss: 0.8297\n",
      "Epoch [193/200], Step [100/100], Loss: 0.5419\n",
      "Epoch [194/200], Step [100/100], Loss: 0.4602\n",
      "Epoch [195/200], Step [100/100], Loss: 0.2445\n",
      "Epoch [196/200], Step [100/100], Loss: 0.1081\n",
      "Epoch [197/200], Step [100/100], Loss: 0.3851\n",
      "Epoch [198/200], Step [100/100], Loss: 0.1742\n",
      "Epoch [199/200], Step [100/100], Loss: 0.3753\n",
      "Epoch [200/200], Step [100/100], Loss: 0.2919\n"
     ]
    }
   ],
   "source": [
    "# Train the Model\n",
    "all_losses = []\n",
    "\n",
    "for epoch in range(num_epochs):\n",
    "    for i, (images, labels) in enumerate(train_loader):  \n",
    "        # Convert torch tensor to Variable\n",
    "        images = Variable(images)\n",
    "        labels = Variable(labels)\n",
    "        \n",
    "        # Forward + Backward + Optimize\n",
    "        optimizer.zero_grad()  # zero the gradient buffer\n",
    "        outputs = net(images)\n",
    "        loss = criterion(outputs, labels)\n",
    "        loss.backward()\n",
    "        optimizer.step()\n",
    "        \n",
    "        if (i+1) % 100 == 0:\n",
    "            print ('Epoch [%d/%d], Step [%d/%d], Loss: %.4f' \n",
    "                   %(epoch+1, num_epochs, i+1, len(train_dataset)//batch_size, loss.data[0]))\n",
    "            all_losses.append(loss.data[0] )\n",
    "            current_loss = 0\n",
    "\n"
   ]
  },
  {
   "cell_type": "code",
   "execution_count": 8,
   "metadata": {
    "collapsed": false
   },
   "outputs": [
    {
     "name": "stdout",
     "output_type": "stream",
     "text": [
      "Accuracy of the network on the test items: 61 %\n"
     ]
    }
   ],
   "source": [
    "# Test the Model\n",
    "correct = 0\n",
    "total = 0\n",
    "\n",
    "predicted_all = []\n",
    "labels_all = []\n",
    "\n",
    "\n",
    "for images, labels in test_loader:\n",
    "    images = Variable(images)\n",
    "    outputs = net(images)\n",
    "    _, predicted = torch.max(outputs.data, 1)\n",
    "    total += labels.size(0)\n",
    "    correct += (predicted == labels).sum()\n",
    "    labels_all = np.append(labels_all, labels.numpy())\n",
    "    predicted_all = np.append(predicted_all, predicted.numpy().T[0])\n",
    "\n",
    "\n",
    "\n",
    "print('Accuracy of the network on the test items: %d %%' % (100 * correct / total))\n",
    "\n",
    "# Save the Model\n",
    "torch.save(net.state_dict(), 'model.pkl')"
   ]
  },
  {
   "cell_type": "code",
   "execution_count": 9,
   "metadata": {
    "collapsed": false
   },
   "outputs": [
    {
     "name": "stdout",
     "output_type": "stream",
     "text": [
      "Accuracy of the network on the test items: 61 %\n"
     ]
    },
    {
     "data": {
      "image/png": "[encoded data removed]",
      "text/plain": [
       "<matplotlib.figure.Figure at 0x117873c50>"
      ]
     },
     "metadata": {},
     "output_type": "display_data"
    },
    {
     "name": "stdout",
     "output_type": "stream",
     "text": [
      "best fit line:\n",
      "y = 1.15 + 0.35x\n"
     ]
    },
    {
     "data": {
      "image/png": "[encoded data removed]",
      "text/plain": [
       "<matplotlib.figure.Figure at 0x117860198>"
      ]
     },
     "metadata": {},
     "output_type": "display_data"
    },
    {
     "data": {
      "image/png": "[encoded data removed]",
      "text/plain": [
       "<matplotlib.figure.Figure at 0x117f2bd30>"
      ]
     },
     "metadata": {},
     "output_type": "display_data"
    },
    {
     "data": {
      "image/png": "[encoded data removed]",
      "text/plain": [
       "<matplotlib.figure.Figure at 0x116fd3208>"
      ]
     },
     "metadata": {},
     "output_type": "display_data"
    }
   ],
   "source": [
    "#http://pytorch.org/tutorials/intermediate/char_rnn_classification_tutorial.html#evaluating-the-results\n",
    "print('Accuracy of the network on the test items: %d %%' % (100 * correct / total))\n",
    "\n",
    "plt.figure()\n",
    "plt.plot(all_losses)\n",
    "plt.title('Loss by Iteration')\n",
    "plt.show()\n",
    "\n",
    "\n",
    "a, b = best_fit(labels_all, predicted_all)\n",
    "plt.scatter(labels_all, predicted_all, s=70, alpha=0.03)\n",
    "yfit = [a + b * xi for xi in labels_all]\n",
    "plt.plot(labels_all, yfit)\n",
    "plt.title('Labels vs Predicted')\n",
    "plt.show()\n",
    "\n",
    "plt.hist(labels_all, bins=3)\n",
    "plt.title('Labels')\n",
    "plt.show()\n",
    "\n",
    "plt.hist(predicted_all, bins=3)\n",
    "plt.title('Predicted')\n",
    "plt.show()"
   ]
  },
  {
   "cell_type": "code",
   "execution_count": null,
   "metadata": {
    "collapsed": false
   },
   "outputs": [],
   "source": [
    "def best_fit(X, Y):\n",
    "\n",
    "    xbar = sum(X)/len(X)\n",
    "    ybar = sum(Y)/len(Y)\n",
    "    n = len(X) # or len(Y)\n",
    "\n",
    "    numer = sum(xi*yi for xi,yi in zip(X, Y)) - n * xbar * ybar\n",
    "    denum = sum(xi**2 for xi in X) - n * xbar**2\n",
    "\n",
    "    b = numer / denum\n",
    "    a = ybar - b * xbar\n",
    "\n",
    "    print('best fit line:\\ny = {:.2f} + {:.2f}x'.format(a, b))\n",
    "\n",
    "    return a, b\n"
   ]
  },
  {
   "cell_type": "markdown",
   "metadata": {},
   "source": [
    "## Using Keras and Kfold Validation"
   ]
  },
  {
   "cell_type": "code",
   "execution_count": null,
   "metadata": {
    "collapsed": true
   },
   "outputs": [],
   "source": [
    "# define baseline model\n",
    "def baseline_model():\n",
    "    # create model\n",
    "    model = Sequential()\n",
    "    model.add(Dense(242, input_dim=242, activation='relu')) #Dense(n) = how many hidden layers\n",
    "    model.add(Dense(100, input_dim=242, activation='relu')) #Dense(n) = how many hidden layers\n",
    "    model.add(Dense(50, input_dim=242, activation='relu')) #Dense(n) = how many hidden layers\n",
    "    model.add(Dense(3, activation='softmax')) #3 Outputs\n",
    "    # Compile model\n",
    "    model.compile(loss='categorical_crossentropy', optimizer='adam', metrics=['accuracy'])\n",
    "    return model"
   ]
  },
  {
   "cell_type": "code",
   "execution_count": null,
   "metadata": {
    "collapsed": false
   },
   "outputs": [],
   "source": [
    "estimator = KerasClassifier(build_fn=baseline_model, epochs=50, batch_size=30, verbose=0)"
   ]
  },
  {
   "cell_type": "code",
   "execution_count": null,
   "metadata": {
    "collapsed": false
   },
   "outputs": [],
   "source": [
    "kfold = KFold(n_splits=10, shuffle=True, random_state=seed)"
   ]
  },
  {
   "cell_type": "code",
   "execution_count": null,
   "metadata": {
    "collapsed": false
   },
   "outputs": [],
   "source": [
    "results = cross_val_score(estimator, X, dummy_y, cv=kfold)\n",
    "#print(\"Baseline: %.2f%% (%.2f%%)\" % (results.mean()*100, results.std()*100))"
   ]
  },
  {
   "cell_type": "code",
   "execution_count": null,
   "metadata": {
    "collapsed": false
   },
   "outputs": [],
   "source": []
  },
  {
   "cell_type": "code",
   "execution_count": null,
   "metadata": {
    "collapsed": true
   },
   "outputs": [],
   "source": []
  },
  {
   "cell_type": "code",
   "execution_count": null,
   "metadata": {
    "collapsed": true
   },
   "outputs": [],
   "source": []
  },
  {
   "cell_type": "code",
   "execution_count": null,
   "metadata": {
    "collapsed": true
   },
   "outputs": [],
   "source": []
  },
  {
   "cell_type": "code",
   "execution_count": null,
   "metadata": {
    "collapsed": true
   },
   "outputs": [],
   "source": []
  },
  {
   "cell_type": "code",
   "execution_count": null,
   "metadata": {
    "collapsed": true
   },
   "outputs": [],
   "source": []
  },
  {
   "cell_type": "markdown",
   "metadata": {
    "collapsed": true
   },
   "source": [
    "## Using Keras (even older - validation split = 0.2)"
   ]
  },
  {
   "cell_type": "code",
   "execution_count": null,
   "metadata": {
    "collapsed": false
   },
   "outputs": [],
   "source": [
    "# create model\n",
    "model = Sequential()\n",
    "model.add(Dense(100, input_dim=242, activation='relu'))\n",
    "model.add(Dense(50, activation='relu'))\n",
    "model.add(Dense(1, activation='sigmoid'))"
   ]
  },
  {
   "cell_type": "code",
   "execution_count": null,
   "metadata": {
    "collapsed": false
   },
   "outputs": [],
   "source": [
    "# Compile model\n",
    "model.compile(loss='binary_crossentropy', optimizer='adam', metrics=['accuracy'])"
   ]
  },
  {
   "cell_type": "code",
   "execution_count": null,
   "metadata": {
    "collapsed": false
   },
   "outputs": [],
   "source": [
    "model_info = model.fit(X, Y, nb_epoch=150, batch_size=10,  verbose=2, validation_split=0.2)\n",
    "# calculate predictions\n",
    "predictions = model.predict(X_test)\n",
    "# round predictions\n",
    "rounded = [round(x[0]) for x in predictions]\n"
   ]
  },
  {
   "cell_type": "code",
   "execution_count": null,
   "metadata": {
    "collapsed": false
   },
   "outputs": [],
   "source": [
    "# evaluate the model\n",
    "scores = model.evaluate(X_test, Y_test)\n",
    "print(\"\\n%s: %.2f%%\" % (model.metrics_names[1], scores[1]*100))"
   ]
  },
  {
   "cell_type": "code",
   "execution_count": null,
   "metadata": {
    "collapsed": false
   },
   "outputs": [],
   "source": [
    "from IPython.display import SVG\n",
    "from keras.utils.vis_utils import model_to_dot\n",
    "import pydotplus as pydot\n",
    "SVG(model_to_dot(model).create( format='svg'))"
   ]
  },
  {
   "cell_type": "code",
   "execution_count": null,
   "metadata": {
    "collapsed": false
   },
   "outputs": [],
   "source": []
  },
  {
   "cell_type": "code",
   "execution_count": null,
   "metadata": {
    "collapsed": false
   },
   "outputs": [],
   "source": [
    "import time\n",
    "import matplotlib.pyplot as plt\n",
    "import numpy as np\n",
    "from keras.models import Sequential\n",
    "from keras.layers.core import Dense, Activation\n",
    "from keras.optimizers import SGD\n",
    "from keras.utils import np_utils\n",
    "% matplotlib inline\n",
    "np.random.seed(2017)"
   ]
  },
  {
   "cell_type": "code",
   "execution_count": null,
   "metadata": {
    "collapsed": false
   },
   "outputs": [],
   "source": [
    "def plot_model_history(model_history):\n",
    "    fig, axs = plt.subplots(1,2,figsize=(15,5))\n",
    "    # summarize history for accuracy\n",
    "    axs[0].plot(range(1,len(model_history.history['acc'])+1),model_history.history['acc'])\n",
    "    axs[0].plot(range(1,len(model_history.history['val_acc'])+1),model_history.history['val_acc'])\n",
    "    axs[0].set_title('Model Accuracy')\n",
    "    axs[0].set_ylabel('Accuracy')\n",
    "    axs[0].set_xlabel('Epoch')\n",
    "    axs[0].set_xticks(np.arange(1,len(model_history.history['acc'])+1),len(model_history.history['acc'])/10)\n",
    "    axs[0].legend(['train', 'val'], loc='best')\n",
    "    # summarize history for loss\n",
    "    axs[1].plot(range(1,len(model_history.history['loss'])+1),model_history.history['loss'])\n",
    "    axs[1].plot(range(1,len(model_history.history['val_loss'])+1),model_history.history['val_loss'])\n",
    "    axs[1].set_title('Model Loss')\n",
    "    axs[1].set_ylabel('Loss')\n",
    "    axs[1].set_xlabel('Epoch')\n",
    "    axs[1].set_xticks(np.arange(1,len(model_history.history['loss'])+1),len(model_history.history['loss'])/10)\n",
    "    axs[1].legend(['train', 'val'], loc='best')\n",
    "    plt.show()"
   ]
  },
  {
   "cell_type": "code",
   "execution_count": null,
   "metadata": {
    "collapsed": false
   },
   "outputs": [],
   "source": [
    "#plot_model_history(model_info)\n"
   ]
  },
  {
   "cell_type": "code",
   "execution_count": null,
   "metadata": {
    "collapsed": true
   },
   "outputs": [],
   "source": []
  }
 ],
 "metadata": {
  "kernelspec": {
   "display_name": "Python 3",
   "language": "python",
   "name": "python3"
  },
  "language_info": {
   "codemirror_mode": {
    "name": "ipython",
    "version": 3
   },
   "file_extension": ".py",
   "mimetype": "text/x-python",
   "name": "python",
   "nbconvert_exporter": "python",
   "pygments_lexer": "ipython3",
   "version": "3.6.0"
  }
 },
 "nbformat": 4,
 "nbformat_minor": 2
}
